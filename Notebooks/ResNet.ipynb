{
  "nbformat": 4,
  "nbformat_minor": 0,
  "metadata": {
    "colab": {
      "provenance": [],
      "toc_visible": true,
      "include_colab_link": true
    },
    "kernelspec": {
      "name": "python3",
      "display_name": "Python 3"
    },
    "language_info": {
      "name": "python"
    }
  },
  "cells": [
    {
      "cell_type": "markdown",
      "metadata": {
        "id": "view-in-github",
        "colab_type": "text"
      },
      "source": [
        "<a href=\"https://colab.research.google.com/github/revanth7667/STAT-663_Codes/blob/main/Notebooks/ResNet.ipynb\" target=\"_parent\"><img src=\"https://colab.research.google.com/assets/colab-badge.svg\" alt=\"Open In Colab\"/></a>"
      ]
    },
    {
      "cell_type": "code",
      "source": [
        "%%capture\n",
        "!pip install datasets"
      ],
      "metadata": {
        "id": "T9jRm9BOd0wd"
      },
      "execution_count": null,
      "outputs": []
    },
    {
      "cell_type": "code",
      "execution_count": null,
      "metadata": {
        "id": "bJiKntj8dwAn"
      },
      "outputs": [],
      "source": [
        "%%capture\n",
        "\n",
        "#Importing the Required Pacakges and Libraries\n",
        "\n",
        "#Sklearn\n",
        "from sklearn.model_selection import train_test_split\n",
        "from sklearn.ensemble import RandomForestClassifier\n",
        "from sklearn.linear_model import LogisticRegression\n",
        "from sklearn.metrics import accuracy_score, confusion_matrix, classification_report\n",
        "\n",
        "#Dataset\n",
        "from datasets import load_dataset\n",
        "\n",
        "#tensorflow\n",
        "import tensorflow as tf\n",
        "from tensorflow.keras.applications.resnet50 import preprocess_input\n",
        "\n",
        "#other\n",
        "import matplotlib.pyplot as plt\n",
        "import numpy as np"
      ]
    },
    {
      "cell_type": "code",
      "source": [
        "#loading the Dataset and viewing it's structure\n",
        "dataset = load_dataset(\"cifar10\")\n",
        "dataset"
      ],
      "metadata": {
        "colab": {
          "base_uri": "https://localhost:8080/"
        },
        "id": "DjZPtPesGaFg",
        "outputId": "3d8c8085-33d0-47d1-d4e4-39ccbeb07a46"
      },
      "execution_count": null,
      "outputs": [
        {
          "output_type": "execute_result",
          "data": {
            "text/plain": [
              "DatasetDict({\n",
              "    train: Dataset({\n",
              "        features: ['img', 'label'],\n",
              "        num_rows: 50000\n",
              "    })\n",
              "    test: Dataset({\n",
              "        features: ['img', 'label'],\n",
              "        num_rows: 10000\n",
              "    })\n",
              "})"
            ]
          },
          "metadata": {},
          "execution_count": 5
        }
      ]
    },
    {
      "cell_type": "code",
      "source": [
        "#Viewing Sample Image from Training Data\n",
        "element = next(iter(dataset['train']))"
      ],
      "metadata": {
        "id": "wqZ2gwNgfkL-"
      },
      "execution_count": null,
      "outputs": []
    },
    {
      "cell_type": "code",
      "source": [
        "plt.imshow(element['img'])\n",
        "plt.title(element['label'])"
      ],
      "metadata": {
        "colab": {
          "base_uri": "https://localhost:8080/",
          "height": 470
        },
        "id": "xsbKVZn1N0Y-",
        "outputId": "1bd22cb6-8caf-4a4e-a114-c9966843fadd"
      },
      "execution_count": null,
      "outputs": [
        {
          "output_type": "execute_result",
          "data": {
            "text/plain": [
              "Text(0.5, 1.0, '0')"
            ]
          },
          "metadata": {},
          "execution_count": 29
        },
        {
          "output_type": "display_data",
          "data": {
            "text/plain": [
              "<Figure size 640x480 with 1 Axes>"
            ],
            "image/png": "[encoded data removed]"
          },
          "metadata": {}
        }
      ]
    },
    {
      "cell_type": "markdown",
      "source": [
        "## Raw Models"
      ],
      "metadata": {
        "id": "k6YEFlLbHyTs"
      }
    },
    {
      "cell_type": "code",
      "source": [
        "element = next(iter(dataset['train']))\n",
        "X_train = []\n",
        "y_train = []\n",
        "for i in range(50,000):\n",
        "  X_train.append(element['img'])\n",
        "  y_train.append(element['label'])\n"
      ],
      "metadata": {
        "id": "XmHFgh9cLVYF"
      },
      "execution_count": null,
      "outputs": []
    },
    {
      "cell_type": "code",
      "source": [
        "X_train"
      ],
      "metadata": {
        "colab": {
          "base_uri": "https://localhost:8080/"
        },
        "id": "Rn_PupK6NqCN",
        "outputId": "39f7bc43-fc8a-443c-fdb9-1ba82f15ff56"
      },
      "execution_count": null,
      "outputs": [
        {
          "output_type": "execute_result",
          "data": {
            "text/plain": [
              "[]"
            ]
          },
          "metadata": {},
          "execution_count": 20
        }
      ]
    },
    {
      "cell_type": "markdown",
      "source": [
        "### Decision Trees"
      ],
      "metadata": {
        "id": "x0InvMtGH3A_"
      }
    },
    {
      "cell_type": "code",
      "source": [
        "#Trainig Model with Train Data\n",
        "model_rf_raw = RandomForestClassifier(n_estimators=100)\n",
        "\n",
        "elems = iter(dataset['train'])\n",
        "\n",
        "model_rf_raw.fit(elems['img'], elems['label'])"
      ],
      "metadata": {
        "colab": {
          "base_uri": "https://localhost:8080/",
          "height": 180
        },
        "id": "AFojpT4fH8wt",
        "outputId": "032a4723-5fc8-4bd4-c812-a783f198bcec"
      },
      "execution_count": null,
      "outputs": [
        {
          "output_type": "error",
          "ename": "TypeError",
          "evalue": "'generator' object is not subscriptable",
          "traceback": [
            "\u001b[0;31m---------------------------------------------------------------------------\u001b[0m",
            "\u001b[0;31mTypeError\u001b[0m                                 Traceback (most recent call last)",
            "\u001b[0;32m<ipython-input-18-6ae4f7b43781>\u001b[0m in \u001b[0;36m<cell line: 6>\u001b[0;34m()\u001b[0m\n\u001b[1;32m      4\u001b[0m \u001b[0melems\u001b[0m \u001b[0;34m=\u001b[0m \u001b[0miter\u001b[0m\u001b[0;34m(\u001b[0m\u001b[0mdataset\u001b[0m\u001b[0;34m[\u001b[0m\u001b[0;34m'train'\u001b[0m\u001b[0;34m]\u001b[0m\u001b[0;34m)\u001b[0m\u001b[0;34m\u001b[0m\u001b[0;34m\u001b[0m\u001b[0m\n\u001b[1;32m      5\u001b[0m \u001b[0;34m\u001b[0m\u001b[0m\n\u001b[0;32m----> 6\u001b[0;31m \u001b[0mmodel_rf_raw\u001b[0m\u001b[0;34m.\u001b[0m\u001b[0mfit\u001b[0m\u001b[0;34m(\u001b[0m\u001b[0melems\u001b[0m\u001b[0;34m[\u001b[0m\u001b[0;34m'img'\u001b[0m\u001b[0;34m]\u001b[0m\u001b[0;34m,\u001b[0m \u001b[0melems\u001b[0m\u001b[0;34m[\u001b[0m\u001b[0;34m'label'\u001b[0m\u001b[0;34m]\u001b[0m\u001b[0;34m)\u001b[0m\u001b[0;34m\u001b[0m\u001b[0;34m\u001b[0m\u001b[0m\n\u001b[0m",
            "\u001b[0;31mTypeError\u001b[0m: 'generator' object is not subscriptable"
          ]
        }
      ]
    },
    {
      "cell_type": "code",
      "source": [
        "dataset['train'].features['img']"
      ],
      "metadata": {
        "colab": {
          "base_uri": "https://localhost:8080/"
        },
        "id": "Swu0gWhZKf8R",
        "outputId": "d5d0f570-c979-4be2-b5b6-92df15acb039"
      },
      "execution_count": null,
      "outputs": [
        {
          "output_type": "execute_result",
          "data": {
            "text/plain": [
              "Image(decode=True, id=None)"
            ]
          },
          "metadata": {},
          "execution_count": 15
        }
      ]
    },
    {
      "cell_type": "code",
      "source": [
        "# Load a pretrained model\n",
        "model = tf.keras.applications.resnet50.ResNet50(\n",
        "  include_top=False, # take any input shape, not just 224x224\n",
        "  weights='imagenet', # use the imagenet pretrained model\n",
        "  pooling='avg' # use global average pooling to get a 2048 vector from our image\n",
        ")\n",
        "\n",
        "# Run one example image\n",
        "processed_image = np.array(element['img'])[None, ...]/255.0\n",
        "embedding = model.predict(processed_image)"
      ],
      "metadata": {
        "colab": {
          "base_uri": "https://localhost:8080/"
        },
        "id": "8X68TQ5oeKra",
        "outputId": "649f8452-5798-4d03-ae4c-48bc20efb350"
      },
      "execution_count": null,
      "outputs": [
        {
          "output_type": "stream",
          "name": "stdout",
          "text": [
            "Downloading data from https://storage.googleapis.com/tensorflow/keras-applications/resnet/resnet50_weights_tf_dim_ordering_tf_kernels_notop.h5\n",
            "94765736/94765736 [==============================] - 1s 0us/step\n",
            "1/1 [==============================] - 2s 2s/step\n"
          ]
        }
      ]
    },
    {
      "cell_type": "code",
      "source": [
        "# Visualize embedding\n",
        "plt.plot(embedding[0])"
      ],
      "metadata": {
        "colab": {
          "base_uri": "https://localhost:8080/",
          "height": 453
        },
        "id": "ZtkwdOAgfQRu",
        "outputId": "0af7b5f7-faf9-4966-a86c-78f855102806"
      },
      "execution_count": null,
      "outputs": [
        {
          "output_type": "execute_result",
          "data": {
            "text/plain": [
              "[<matplotlib.lines.Line2D at 0x7d886b4d4e50>]"
            ]
          },
          "metadata": {},
          "execution_count": 5
        },
        {
          "output_type": "display_data",
          "data": {
            "text/plain": [
              "<Figure size 640x480 with 1 Axes>"
            ],
            "image/png": "[encoded data removed]"
          },
          "metadata": {}
        }
      ]
    },
    {
      "cell_type": "code",
      "source": [
        "# @title Lab work\n",
        "# Loop over the remaining CIFAR10 dataset to produce 2048 embeddings of the image\n",
        "# Use a logistic regression or random foreset to try and classify these features as before\n",
        "# Try to use batching to speed up the generation of your features, what is batching?\n",
        "# Steps:\n",
        "# 1. Your input data is a 32x32x3 image. You have 50,000 images total so your input dimension is\n",
        "#    50000 x (32 x 32 x 3). Or 50000 rows and 3072 (which is (32 x 32 x 3)) pixels.\n",
        "#    Previously we use pixels as features of or Logistic Regression and Random Forest\n",
        "# 2. The ResNet50 model transforms our pixels into \"2048\" feature embedding so now it is\n",
        "#    50000 rows and 2048 columns of \"features\"\n",
        "# 3. Use these new features to train a simple logistic regression and random forest model as we did in the scikit learn example\n",
        "#    https://colab.research.google.com/drive/1KUperg8lvb3gYBPzP6sbZd89Ft8rDbYG#scrollTo=_bAd38A0N73w"
      ],
      "metadata": {
        "id": "n9MdLoZgeuHh"
      },
      "execution_count": null,
      "outputs": []
    },
    {
      "cell_type": "code",
      "source": [
        "#Importing The Required Packages and Libraries\n",
        "\n",
        "#Sklearn\n",
        "from sklearn.model_selection import train_test_split\n",
        "from sklearn.ensemble import RandomForestClassifier\n",
        "from sklearn.linear_model import LogisticRegression\n",
        "from sklearn.metrics import accuracy_score, confusion_matrix, classification_report\n",
        "\n"
      ],
      "metadata": {
        "id": "hmTDHNXMh96Q"
      },
      "execution_count": null,
      "outputs": []
    },
    {
      "cell_type": "code",
      "source": [
        "dataset['train'][0]"
      ],
      "metadata": {
        "id": "rVknpF0UBPNN",
        "colab": {
          "base_uri": "https://localhost:8080/"
        },
        "outputId": "91fff241-dd7e-4068-9ac4-2eb7622d8fe1"
      },
      "execution_count": null,
      "outputs": [
        {
          "output_type": "execute_result",
          "data": {
            "text/plain": [
              "{'img': <PIL.PngImagePlugin.PngImageFile image mode=RGB size=32x32>,\n",
              " 'label': 0}"
            ]
          },
          "metadata": {},
          "execution_count": 7
        }
      ]
    },
    {
      "cell_type": "code",
      "source": [
        "#training Logistic Regression on the dataset\n"
      ],
      "metadata": {
        "id": "1qc1pVn8Crj1"
      },
      "execution_count": null,
      "outputs": []
    }
  ]
}