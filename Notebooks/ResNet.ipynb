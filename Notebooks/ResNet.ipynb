{
  "cells": [
    {
      "cell_type": "markdown",
      "metadata": {
        "colab_type": "text",
        "id": "view-in-github"
      },
      "source": [
        "<a href=\"https://colab.research.google.com/github/revanth7667/STAT-663_Codes/blob/main/Notebooks/ResNet.ipynb\" target=\"_parent\"><img src=\"https://colab.research.google.com/assets/colab-badge.svg\" alt=\"Open In Colab\"/></a>"
      ]
    },
    {
      "cell_type": "code",
      "execution_count": null,
      "metadata": {
        "id": "T9jRm9BOd0wd"
      },
      "outputs": [],
      "source": [
        "%%capture\n",
        "!pip install datasets"
      ]
    },
    {
      "cell_type": "code",
      "execution_count": null,
      "metadata": {
        "id": "bJiKntj8dwAn"
      },
      "outputs": [],
      "source": [
        "%%capture\n",
        "#Importing the Required Pacakges and Libraries\n",
        "\n",
        "#Sklearn\n",
        "from sklearn.model_selection import train_test_split\n",
        "from sklearn.ensemble import RandomForestClassifier\n",
        "from sklearn.linear_model import LogisticRegression\n",
        "from sklearn.metrics import accuracy_score, confusion_matrix, classification_report\n",
        "\n",
        "#Dataset\n",
        "from datasets import load_dataset\n",
        "\n",
        "#tensorflow\n",
        "import tensorflow as tf\n",
        "from tensorflow.keras.applications.resnet50 import preprocess_input\n",
        "\n",
        "#other\n",
        "import matplotlib.pyplot as plt\n",
        "import numpy as np\n",
        "import time\n",
        "import warnings\n",
        "\n",
        "#Suppressing Warnings\n",
        "warnings.filterwarnings('ignore')"
      ]
    },
    {
      "cell_type": "code",
      "execution_count": null,
      "metadata": {
        "colab": {
          "base_uri": "https://localhost:8080/"
        },
        "id": "DjZPtPesGaFg",
        "outputId": "3d8c8085-33d0-47d1-d4e4-39ccbeb07a46"
      },
      "outputs": [],
      "source": [
        "# loading the Dataset and viewing it's structure\n",
        "dataset = load_dataset(\"cifar10\")\n",
        "dataset"
      ]
    },
    {
      "cell_type": "code",
      "execution_count": null,
      "metadata": {
        "id": "wqZ2gwNgfkL-"
      },
      "outputs": [],
      "source": [
        "# Viewing Sample Image from Training Data\n",
        "element = next(iter(dataset[\"train\"]))\n",
        "plt.imshow(element[\"img\"])\n",
        "plt.title(element[\"label\"])"
      ]
    },
    {
      "cell_type": "markdown",
      "metadata": {},
      "source": [
        "## Data Preprocessing"
      ]
    },
    {
      "cell_type": "markdown",
      "metadata": {},
      "source": [
        "The input image data is converted into numpy arrays and reszied to 224x224x3. The images are then normalized to have a mean of 0 and standard deviation of 1. The labels are one-hot encoded."
      ]
    },
    {
      "cell_type": "markdown",
      "metadata": {},
      "source": [
        "### Training Data"
      ]
    },
    {
      "cell_type": "code",
      "execution_count": null,
      "metadata": {},
      "outputs": [],
      "source": [
        "X_train = np.array(\n",
        "    [(np.array(i)[None, ...] / 255.0).flatten() for i in dataset[\"train\"][\"img\"][:]]\n",
        ")  # .reshape(-1, 32 * 32 * 3)\n",
        "y_train = np.array(dataset[\"train\"][\"label\"][:])"
      ]
    },
    {
      "cell_type": "markdown",
      "metadata": {},
      "source": [
        "### Test Data"
      ]
    },
    {
      "cell_type": "code",
      "execution_count": null,
      "metadata": {},
      "outputs": [],
      "source": [
        "X_test = np.array(\n",
        "    [(np.array(i)[None, ...] / 255.0).flatten() for i in dataset[\"test\"][\"img\"][:]]\n",
        ")  # .reshape(-1, 32 * 32 * 3)\n",
        "y_test = np.array(dataset[\"test\"][\"label\"][:])"
      ]
    },
    {
      "cell_type": "markdown",
      "metadata": {
        "id": "k6YEFlLbHyTs"
      },
      "source": [
        "## Model Performance without ResNet"
      ]
    },
    {
      "cell_type": "markdown",
      "metadata": {},
      "source": [
        "The data from the previous step is used to train a simple Random Forest model and logistic regression model to get a baseline performance.\n",
        "\n",
        "The metricts used to evaluate the model are:\n",
        "- Accuracy\n",
        "- Time to Train and Predict\n",
        "- Confusion Matrix"
      ]
    },
    {
      "cell_type": "markdown",
      "metadata": {
        "id": "x0InvMtGH3A_"
      },
      "source": [
        "### Decision Trees"
      ]
    },
    {
      "cell_type": "code",
      "execution_count": null,
      "metadata": {
        "colab": {
          "base_uri": "https://localhost:8080/",
          "height": 180
        },
        "id": "AFojpT4fH8wt",
        "outputId": "032a4723-5fc8-4bd4-c812-a783f198bcec"
      },
      "outputs": [],
      "source": [
        "# Initializing the Model\n",
        "model_rf_raw = RandomForestClassifier(n_estimators=100)\n",
        "\n",
        "# Fitting the Model\n",
        "t = time.time()\n",
        "model_rf_raw.fit(X_train, y_train)\n",
        "print(f\"Training Time: {time.time() - t:.2f} Seconds\")"
      ]
    },
    {
      "cell_type": "code",
      "execution_count": null,
      "metadata": {
        "colab": {
          "base_uri": "https://localhost:8080/"
        },
        "id": "Swu0gWhZKf8R",
        "outputId": "d5d0f570-c979-4be2-b5b6-92df15acb039"
      },
      "outputs": [],
      "source": [
        "# Predicting the Test Data\n",
        "t = time.time()\n",
        "y_pred = model_rf_raw.predict(X_test)\n",
        "print(f\"Prediction Time: {time.time() - t:0.2f} Seconds\")"
      ]
    },
    {
      "cell_type": "code",
      "execution_count": null,
      "metadata": {},
      "outputs": [],
      "source": [
        "# Model Evaluation\n",
        "print(f\"Accuracy: {accuracy_score(y_test, y_pred):.2%}\")\n",
        "print(f\"Confusion Matrix: \\n{confusion_matrix(y_test, y_pred)}\")"
      ]
    },
    {
      "cell_type": "markdown",
      "metadata": {},
      "source": [
        "### Logistic Regression"
      ]
    },
    {
      "cell_type": "code",
      "execution_count": null,
      "metadata": {},
      "outputs": [],
      "source": [
        "# Initializing the Model\n",
        "model_lr_raw = LogisticRegression(\n",
        "    max_iter=200, multi_class=\"multinomial\", solver=\"lbfgs\", random_state=42\n",
        ")\n",
        "\n",
        "# Fitting the Model\n",
        "t = time.time()\n",
        "model_lr_raw.fit(X_train, y_train)\n",
        "print(f\"Training Time: {time.time() - t:0.2f} Seconds\")"
      ]
    },
    {
      "cell_type": "code",
      "execution_count": null,
      "metadata": {},
      "outputs": [],
      "source": [
        "t = time.time()\n",
        "y_pred = model_lr_raw.predict(X_test)\n",
        "print(f\"Prediction Time: {time.time() - t:0.2f} Seconds\")"
      ]
    },
    {
      "cell_type": "code",
      "execution_count": null,
      "metadata": {},
      "outputs": [],
      "source": [
        "# Model Evaluation\n",
        "print(f\"Accuracy: {accuracy_score(y_test, y_pred):.2%}\")\n",
        "print(f\"Confusion Matrix: \\n{confusion_matrix(y_test, y_pred)}\")"
      ]
    },
    {
      "cell_type": "code",
      "execution_count": null,
      "metadata": {},
      "outputs": [],
      "source": [
        "assert 1 == 0"
      ]
    },
    {
      "cell_type": "markdown",
      "metadata": {},
      "source": [
        "## ResNet Optimized"
      ]
    },
    {
      "cell_type": "markdown",
      "metadata": {},
      "source": [
        "### Embedding the Data using ResNet50"
      ]
    },
    {
      "cell_type": "code",
      "execution_count": null,
      "metadata": {
        "colab": {
          "base_uri": "https://localhost:8080/"
        },
        "id": "8X68TQ5oeKra",
        "outputId": "649f8452-5798-4d03-ae4c-48bc20efb350"
      },
      "outputs": [],
      "source": [
        "# Load a pretrained model\n",
        "model = tf.keras.applications.resnet50.ResNet50(\n",
        "    include_top=False,  # take any input shape, not just 224x224\n",
        "    weights=\"imagenet\",  # use the imagenet pretrained model\n",
        "    pooling=\"avg\",  # use global average pooling to get a 2048 vector from our image\n",
        ")"
      ]
    },
    {
      "cell_type": "code",
      "execution_count": null,
      "metadata": {},
      "outputs": [],
      "source": [
        "%%capture\n",
        "def preprocess(img):\n",
        "    processed_img = preprocess_input(  # ResNet has its own preprocesser\n",
        "        tf.image.resize(  # Images need to be in (224, 224) dimension\n",
        "            np.array(img), (224, 224)  # Turn PIL image object into array\n",
        "        )\n",
        "    )[None]\n",
        "    return processed_img\n",
        "\n",
        "\n",
        "# use resnet to get the embeddings\n",
        "X_train_resnet = np.array(\n",
        "    [model.predict(preprocess(i)) for i in dataset[\"train\"][\"img\"][:]]\n",
        ").reshape(-1, 2048)\n",
        "X_test_resnet = np.array(\n",
        "    [model.predict(preprocess(i)) for i in dataset[\"test\"][\"img\"][:]]\n",
        ").reshape(-1, 2048)"
      ]
    },
    {
      "cell_type": "code",
      "execution_count": null,
      "metadata": {},
      "outputs": [],
      "source": [
        "# Viewing 1 sample embedding\n",
        "plt.plot(X_train_resnet[0].flatten())"
      ]
    },
    {
      "cell_type": "markdown",
      "metadata": {},
      "source": [
        "### Decision Trees"
      ]
    },
    {
      "cell_type": "code",
      "execution_count": null,
      "metadata": {},
      "outputs": [],
      "source": [
        "# Initializing the Model\n",
        "model_rf_resnet = RandomForestClassifier(n_estimators=100)\n",
        "\n",
        "# Fitting the Model\n",
        "t = time.time()\n",
        "model_rf_resnet.fit(X_train_resnet, y_train)\n",
        "print(f\"Training Time: {time.time() - t:.2f} Seconds\")"
      ]
    },
    {
      "cell_type": "code",
      "execution_count": null,
      "metadata": {},
      "outputs": [],
      "source": [
        "# predicting the test data\n",
        "t = time.time()\n",
        "y_pred = model_rf_resnet.predict(X_test_resnet)\n",
        "print(f\"Prediction Time: {time.time() - t:0.2f} Seconds\")"
      ]
    },
    {
      "cell_type": "code",
      "execution_count": null,
      "metadata": {},
      "outputs": [],
      "source": [
        "# Model Evaluation\n",
        "print(f\"Accuracy: {accuracy_score(y_test, y_pred):.2%}\")\n",
        "print(f\"Confusion Matrix: \\n{confusion_matrix(y_test, y_pred)}\")"
      ]
    },
    {
      "cell_type": "markdown",
      "metadata": {},
      "source": [
        "### Logistic Regression"
      ]
    },
    {
      "cell_type": "code",
      "execution_count": null,
      "metadata": {},
      "outputs": [],
      "source": [
        "# Initializing the Model\n",
        "model_lr_resnet = LogisticRegression(\n",
        "    max_iter=200, multi_class=\"multinomial\", solver=\"lbfgs\", random_state=42\n",
        ")\n",
        "\n",
        "# Fitting the Model\n",
        "t = time.time()\n",
        "model_lr_resnet.fit(X_train_resnet, y_train)\n",
        "print(f\"Training Time: {time.time() - t:0.2f} Seconds\")"
      ]
    },
    {
      "cell_type": "code",
      "execution_count": null,
      "metadata": {},
      "outputs": [],
      "source": [
        "# predicting the test data\n",
        "t = time.time()\n",
        "y_pred = model_lr_resnet.predict(X_test_resnet)\n",
        "print(f\"Prediction Time: {time.time() - t:0.2f} Seconds\")"
      ]
    },
    {
      "cell_type": "code",
      "execution_count": null,
      "metadata": {},
      "outputs": [],
      "source": [
        "# Model Evaluation\n",
        "print(f\"Accuracy: {accuracy_score(y_test, y_pred):.2%}\")\n",
        "print(f\"Confusion Matrix: \\n{confusion_matrix(y_test, y_pred)}\")"
      ]
    },
    {
      "cell_type": "markdown",
      "metadata": {},
      "source": [
        "## Results\n",
        "The time to embed the data using ResNet50 was higher than the time to embed normally. however, this led to both the models showing an improvement in terms of accuray and time to train and predict when the data was embedded using ResNet50. The confusion matrix also showed a better performance.\n"
      ]
    }
  ],
  "metadata": {
    "colab": {
      "include_colab_link": true,
      "provenance": [],
      "toc_visible": true
    },
    "kernelspec": {
      "display_name": "Python 3",
      "name": "python3"
    },
    "language_info": {
      "codemirror_mode": {
        "name": "ipython",
        "version": 3
      },
      "file_extension": ".py",
      "mimetype": "text/x-python",
      "name": "python",
      "nbconvert_exporter": "python",
      "pygments_lexer": "ipython3",
      "version": "3.11.5"
    }
  },
  "nbformat": 4,
  "nbformat_minor": 0
}
