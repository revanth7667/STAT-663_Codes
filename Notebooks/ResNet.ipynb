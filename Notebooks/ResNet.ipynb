{
 "cells": [
  {
   "cell_type": "code",
   "execution_count": 1,
   "metadata": {
    "id": "T9jRm9BOd0wd"
   },
   "outputs": [],
   "source": [
    "%%capture\n",
    "!pip install datasets"
   ]
  },
  {
   "cell_type": "code",
   "execution_count": 2,
   "metadata": {
    "id": "bJiKntj8dwAn"
   },
   "outputs": [],
   "source": [
    "%%capture\n",
    "# Importing the Required Pacakges and Libraries\n",
    "\n",
    "# Sklearn\n",
    "from sklearn.model_selection import train_test_split\n",
    "from sklearn.ensemble import RandomForestClassifier\n",
    "from sklearn.linear_model import LogisticRegression\n",
    "from sklearn.metrics import accuracy_score, confusion_matrix, classification_report\n",
    "\n",
    "# Dataset\n",
    "from datasets import load_dataset\n",
    "\n",
    "# tensorflow\n",
    "import tensorflow as tf\n",
    "from tensorflow.keras.applications.resnet50 import preprocess_input\n",
    "\n",
    "# other\n",
    "import matplotlib.pyplot as plt\n",
    "import numpy as np\n",
    "import time\n",
    "import warnings\n",
    "\n",
    "# Suppressing Warnings\n",
    "warnings.filterwarnings(\"ignore\")"
   ]
  },
  {
   "cell_type": "code",
   "execution_count": 3,
   "metadata": {
    "colab": {
     "base_uri": "https://localhost:8080/"
    },
    "id": "DjZPtPesGaFg",
    "outputId": "3d8c8085-33d0-47d1-d4e4-39ccbeb07a46"
   },
   "outputs": [
    {
     "data": {
      "text/plain": [
       "DatasetDict({\n",
       "    train: Dataset({\n",
       "        features: ['img', 'label'],\n",
       "        num_rows: 50000\n",
       "    })\n",
       "    test: Dataset({\n",
       "        features: ['img', 'label'],\n",
       "        num_rows: 10000\n",
       "    })\n",
       "})"
      ]
     },
     "execution_count": 3,
     "metadata": {},
     "output_type": "execute_result"
    }
   ],
   "source": [
    "# loading the Dataset and viewing it's structure\n",
    "dataset = load_dataset(\"cifar10\")\n",
    "dataset"
   ]
  },
  {
   "cell_type": "code",
   "execution_count": 4,
   "metadata": {
    "id": "wqZ2gwNgfkL-"
   },
   "outputs": [
    {
     "data": {
      "text/plain": [
       "Text(0.5, 1.0, '0')"
      ]
     },
     "execution_count": 4,
     "metadata": {},
     "output_type": "execute_result"
    },
    {
     "data": {
      "image/png": "[encoded data removed]",
      "text/plain": [
       "<Figure size 640x480 with 1 Axes>"
      ]
     },
     "metadata": {},
     "output_type": "display_data"
    }
   ],
   "source": [
    "# Viewing Sample Image from Training Data\n",
    "element = next(iter(dataset[\"train\"]))\n",
    "plt.imshow(element[\"img\"])\n",
    "plt.title(element[\"label\"])"
   ]
  },
  {
   "cell_type": "markdown",
   "metadata": {},
   "source": [
    "## Data Preprocessing"
   ]
  },
  {
   "cell_type": "markdown",
   "metadata": {},
   "source": [
    "The input image data is converted into numpy arrays which are normalized between 0 and 1 and have a dimesion of 1 row and 32x32x3 columns."
   ]
  },
  {
   "cell_type": "markdown",
   "metadata": {},
   "source": [
    "### Training Data"
   ]
  },
  {
   "cell_type": "code",
   "execution_count": 5,
   "metadata": {},
   "outputs": [],
   "source": [
    "X_train = np.array(\n",
    "    [(np.array(i)[None, ...] / 255.0).flatten() for i in dataset[\"train\"][\"img\"][:]]\n",
    ")  # .reshape(-1, 32 * 32 * 3)\n",
    "y_train = np.array(dataset[\"train\"][\"label\"][:])"
   ]
  },
  {
   "cell_type": "markdown",
   "metadata": {},
   "source": [
    "### Test Data"
   ]
  },
  {
   "cell_type": "code",
   "execution_count": 6,
   "metadata": {},
   "outputs": [],
   "source": [
    "X_test = np.array(\n",
    "    [(np.array(i)[None, ...] / 255.0).flatten() for i in dataset[\"test\"][\"img\"][:]]\n",
    ")  # .reshape(-1, 32 * 32 * 3)\n",
    "y_test = np.array(dataset[\"test\"][\"label\"][:])"
   ]
  },
  {
   "cell_type": "markdown",
   "metadata": {
    "id": "k6YEFlLbHyTs"
   },
   "source": [
    "## Model Performance without ResNet"
   ]
  },
  {
   "cell_type": "markdown",
   "metadata": {},
   "source": [
    "The data from the previous step is used to train a simple Random Forest model and logistic regression model to get a baseline performance.\n",
    "\n",
    "The metricts used to evaluate the model are:\n",
    "- Accuracy\n",
    "- Time to Train and Predict\n",
    "- Confusion Matrix"
   ]
  },
  {
   "cell_type": "markdown",
   "metadata": {
    "id": "x0InvMtGH3A_"
   },
   "source": [
    "### Decision Trees"
   ]
  },
  {
   "cell_type": "code",
   "execution_count": 7,
   "metadata": {
    "colab": {
     "base_uri": "https://localhost:8080/",
     "height": 180
    },
    "id": "AFojpT4fH8wt",
    "outputId": "032a4723-5fc8-4bd4-c812-a783f198bcec"
   },
   "outputs": [
    {
     "name": "stdout",
     "output_type": "stream",
     "text": [
      "Training Time: 160.67 Seconds\n"
     ]
    }
   ],
   "source": [
    "# Initializing the Model\n",
    "model_rf_raw = RandomForestClassifier(n_estimators=100)\n",
    "\n",
    "# Fitting the Model\n",
    "t = time.time()\n",
    "model_rf_raw.fit(X_train, y_train)\n",
    "print(f\"Training Time: {time.time() - t:.2f} Seconds\")"
   ]
  },
  {
   "cell_type": "code",
   "execution_count": 8,
   "metadata": {
    "colab": {
     "base_uri": "https://localhost:8080/"
    },
    "id": "Swu0gWhZKf8R",
    "outputId": "d5d0f570-c979-4be2-b5b6-92df15acb039"
   },
   "outputs": [
    {
     "name": "stdout",
     "output_type": "stream",
     "text": [
      "Prediction Time: 0.65 Seconds\n"
     ]
    }
   ],
   "source": [
    "# Predicting the Test Data\n",
    "t = time.time()\n",
    "y_pred = model_rf_raw.predict(X_test)\n",
    "print(f\"Prediction Time: {time.time() - t:0.2f} Seconds\")"
   ]
  },
  {
   "cell_type": "code",
   "execution_count": 9,
   "metadata": {},
   "outputs": [
    {
     "name": "stdout",
     "output_type": "stream",
     "text": [
      "Accuracy: 47.54%\n",
      "Confusion Matrix: \n",
      "[[570  31  43  19  36  20  16  33 169  63]\n",
      " [ 27 563  21  34  16  30  36  30  59 184]\n",
      " [ 99  48 334  91 137  61 117  59  21  33]\n",
      " [ 60  44  75 290  70 178 127  70  23  63]\n",
      " [ 53  22 143  49 402  57 140  85  32  17]\n",
      " [ 37  29  80 173  76 392  87  68  25  33]\n",
      " [  9  39  86  80 100  45 569  21  11  40]\n",
      " [ 46  42  49  68  92  77  49 461  23  93]\n",
      " [ 90  79  17  23  23  33  11  21 626  77]\n",
      " [ 50 182  11  35  15  19  21  44  76 547]]\n"
     ]
    }
   ],
   "source": [
    "# Model Evaluation\n",
    "print(f\"Accuracy: {accuracy_score(y_test, y_pred):.2%}\")\n",
    "print(f\"Confusion Matrix: \\n{confusion_matrix(y_test, y_pred)}\")"
   ]
  },
  {
   "cell_type": "markdown",
   "metadata": {},
   "source": [
    "### Logistic Regression"
   ]
  },
  {
   "cell_type": "code",
   "execution_count": 10,
   "metadata": {},
   "outputs": [
    {
     "name": "stdout",
     "output_type": "stream",
     "text": [
      "Training Time: 80.25 Seconds\n"
     ]
    }
   ],
   "source": [
    "# Initializing the Model\n",
    "model_lr_raw = LogisticRegression(\n",
    "    max_iter=200, multi_class=\"multinomial\", solver=\"lbfgs\", random_state=42\n",
    ")\n",
    "\n",
    "# Fitting the Model\n",
    "t = time.time()\n",
    "model_lr_raw.fit(X_train, y_train)\n",
    "print(f\"Training Time: {time.time() - t:0.2f} Seconds\")"
   ]
  },
  {
   "cell_type": "code",
   "execution_count": 11,
   "metadata": {},
   "outputs": [
    {
     "name": "stdout",
     "output_type": "stream",
     "text": [
      "Prediction Time: 0.09 Seconds\n"
     ]
    }
   ],
   "source": [
    "t = time.time()\n",
    "y_pred = model_lr_raw.predict(X_test)\n",
    "print(f\"Prediction Time: {time.time() - t:0.2f} Seconds\")"
   ]
  },
  {
   "cell_type": "code",
   "execution_count": 12,
   "metadata": {},
   "outputs": [
    {
     "name": "stdout",
     "output_type": "stream",
     "text": [
      "Accuracy: 40.74%\n",
      "Confusion Matrix: \n",
      "[[505  44  53  26  30  26  25  47 167  77]\n",
      " [ 56 459  34  30  28  35  38  54  89 177]\n",
      " [104  42 289  92 121  79 137  72  42  22]\n",
      " [ 41  60 105 239  63 208 142  47  36  59]\n",
      " [ 59  21 137  71 309  86 160 101  27  29]\n",
      " [ 41  50 105 148  92 331  88  64  47  34]\n",
      " [ 20  33  69 121  99  90 490  43  14  21]\n",
      " [ 47  50  75  67  78  87  46 438  37  75]\n",
      " [164  64  24  29  11  44  15  21 538  90]\n",
      " [ 67 170  26  25  18  22  53  49  94 476]]\n"
     ]
    }
   ],
   "source": [
    "# Model Evaluation\n",
    "print(f\"Accuracy: {accuracy_score(y_test, y_pred):.2%}\")\n",
    "print(f\"Confusion Matrix: \\n{confusion_matrix(y_test, y_pred)}\")"
   ]
  },
  {
   "cell_type": "markdown",
   "metadata": {},
   "source": [
    "## ResNet Optimized"
   ]
  },
  {
   "cell_type": "markdown",
   "metadata": {},
   "source": [
    "The raw data is embedded using a pre-trained ResNet model and the output is used to train a Random Forest and Logistic Regression model. The metrics used to evaluate the model are the same as the previous step."
   ]
  },
  {
   "cell_type": "markdown",
   "metadata": {},
   "source": [
    "### Embedding the Data using ResNet50"
   ]
  },
  {
   "cell_type": "code",
   "execution_count": 14,
   "metadata": {
    "colab": {
     "base_uri": "https://localhost:8080/"
    },
    "id": "8X68TQ5oeKra",
    "outputId": "649f8452-5798-4d03-ae4c-48bc20efb350"
   },
   "outputs": [],
   "source": [
    "# Load a pretrained model\n",
    "model = tf.keras.applications.resnet50.ResNet50(\n",
    "    include_top=False,  # take any input shape, not just 224x224\n",
    "    weights=\"imagenet\",  # use the imagenet pretrained model\n",
    "    pooling=\"avg\",  # use global average pooling to get a 2048 vector from our image\n",
    ")"
   ]
  },
  {
   "cell_type": "code",
   "execution_count": 15,
   "metadata": {},
   "outputs": [],
   "source": [
    "%%capture\n",
    "def preprocess(img):\n",
    "    processed_img = preprocess_input(  # ResNet has its own preprocesser\n",
    "        tf.image.resize(  # Images need to be in (224, 224) dimension\n",
    "            np.array(img), (224, 224)  # Turn PIL image object into array\n",
    "        )\n",
    "    )[None]\n",
    "    return processed_img\n",
    "\n",
    "\n",
    "# use resnet to get the embeddings\n",
    "X_train_resnet = np.array(\n",
    "    [model.predict(preprocess(i)) for i in dataset[\"train\"][\"img\"][:]]\n",
    ").reshape(-1, 2048)\n",
    "X_test_resnet = np.array(\n",
    "    [model.predict(preprocess(i)) for i in dataset[\"test\"][\"img\"][:]]\n",
    ").reshape(-1, 2048)"
   ]
  },
  {
   "cell_type": "code",
   "execution_count": 16,
   "metadata": {},
   "outputs": [
    {
     "data": {
      "text/plain": [
       "[<matplotlib.lines.Line2D at 0x17eb32190>]"
      ]
     },
     "execution_count": 16,
     "metadata": {},
     "output_type": "execute_result"
    },
    {
     "data": {
      "image/png": "[encoded data removed]",
      "text/plain": [
       "<Figure size 640x480 with 1 Axes>"
      ]
     },
     "metadata": {},
     "output_type": "display_data"
    }
   ],
   "source": [
    "# Viewing 1 sample embedding\n",
    "plt.plot(X_train_resnet[0].flatten())"
   ]
  },
  {
   "cell_type": "markdown",
   "metadata": {},
   "source": [
    "### Decision Trees"
   ]
  },
  {
   "cell_type": "code",
   "execution_count": 17,
   "metadata": {},
   "outputs": [
    {
     "name": "stdout",
     "output_type": "stream",
     "text": [
      "Training Time: 200.54 Seconds\n"
     ]
    }
   ],
   "source": [
    "# Initializing the Model\n",
    "model_rf_resnet = RandomForestClassifier(n_estimators=100)\n",
    "\n",
    "# Fitting the Model\n",
    "t = time.time()\n",
    "model_rf_resnet.fit(X_train_resnet, y_train)\n",
    "print(f\"Training Time: {time.time() - t:.2f} Seconds\")"
   ]
  },
  {
   "cell_type": "code",
   "execution_count": 18,
   "metadata": {},
   "outputs": [
    {
     "name": "stdout",
     "output_type": "stream",
     "text": [
      "Prediction Time: 0.35 Seconds\n"
     ]
    }
   ],
   "source": [
    "# predicting the test data\n",
    "t = time.time()\n",
    "y_pred = model_rf_resnet.predict(X_test_resnet)\n",
    "print(f\"Prediction Time: {time.time() - t:0.2f} Seconds\")"
   ]
  },
  {
   "cell_type": "code",
   "execution_count": 19,
   "metadata": {},
   "outputs": [
    {
     "name": "stdout",
     "output_type": "stream",
     "text": [
      "Accuracy: 86.23%\n",
      "Confusion Matrix: \n",
      "[[886  11  12   8   5   2   4   4  50  18]\n",
      " [  5 927   0   4   0   0   2   1   5  56]\n",
      " [ 39   2 799  28  58  15  38  12   8   1]\n",
      " [  9   4  27 745  33 106  53  12   2   9]\n",
      " [  7   2  33  21 841  14  33  45   3   1]\n",
      " [  3   2  12 104  26 821   6  24   2   0]\n",
      " [  5   0  25  38  13   4 913   0   2   0]\n",
      " [ 11   1  17  26  46  32   0 857   6   4]\n",
      " [ 40  10   2   6   0   1   3   0 924  14]\n",
      " [ 18  53   3   3   0   0   0   1  12 910]]\n"
     ]
    }
   ],
   "source": [
    "# Model Evaluation\n",
    "print(f\"Accuracy: {accuracy_score(y_test, y_pred):.2%}\")\n",
    "print(f\"Confusion Matrix: \\n{confusion_matrix(y_test, y_pred)}\")"
   ]
  },
  {
   "cell_type": "markdown",
   "metadata": {},
   "source": [
    "### Logistic Regression"
   ]
  },
  {
   "cell_type": "code",
   "execution_count": 20,
   "metadata": {},
   "outputs": [
    {
     "name": "stdout",
     "output_type": "stream",
     "text": [
      "Training Time: 51.29 Seconds\n"
     ]
    }
   ],
   "source": [
    "# Initializing the Model\n",
    "model_lr_resnet = LogisticRegression(\n",
    "    max_iter=200, multi_class=\"multinomial\", solver=\"lbfgs\", random_state=42\n",
    ")\n",
    "\n",
    "# Fitting the Model\n",
    "t = time.time()\n",
    "model_lr_resnet.fit(X_train_resnet, y_train)\n",
    "print(f\"Training Time: {time.time() - t:0.2f} Seconds\")"
   ]
  },
  {
   "cell_type": "code",
   "execution_count": 21,
   "metadata": {},
   "outputs": [
    {
     "name": "stdout",
     "output_type": "stream",
     "text": [
      "Prediction Time: 0.10 Seconds\n"
     ]
    }
   ],
   "source": [
    "# predicting the test data\n",
    "t = time.time()\n",
    "y_pred = model_lr_resnet.predict(X_test_resnet)\n",
    "print(f\"Prediction Time: {time.time() - t:0.2f} Seconds\")"
   ]
  },
  {
   "cell_type": "code",
   "execution_count": 22,
   "metadata": {},
   "outputs": [
    {
     "name": "stdout",
     "output_type": "stream",
     "text": [
      "Accuracy: 90.96%\n",
      "Confusion Matrix: \n",
      "[[930   5  12   4   4   0   2   4  29  10]\n",
      " [  6 951   0   1   0   1   2   3   6  30]\n",
      " [ 14   0 892  21  32   8  20   6   5   2]\n",
      " [  2   1  18 826  23  84  24  15   3   4]\n",
      " [  2   0  22  25 903   9  14  21   2   2]\n",
      " [  2   0  10  90  15 857   5  20   1   0]\n",
      " [  4   0  25  29   6   3 930   2   1   0]\n",
      " [  4   0   9  17  30  17   1 922   0   0]\n",
      " [ 31   3   3   2   1   0   1   0 951   8]\n",
      " [  9  37   1   3   1   0   1   2  12 934]]\n"
     ]
    }
   ],
   "source": [
    "# Model Evaluation\n",
    "print(f\"Accuracy: {accuracy_score(y_test, y_pred):.2%}\")\n",
    "print(f\"Confusion Matrix: \\n{confusion_matrix(y_test, y_pred)}\")"
   ]
  },
  {
   "cell_type": "markdown",
   "metadata": {},
   "source": [
    "## Results\n",
    "The time to embed the data using ResNet50 was higher than the time to embed normally. however, this led to both the models showing an improvement in terms of accuray and and confusion matrix performance.\n"
   ]
  }
 ],
 "metadata": {
  "colab": {
   "include_colab_link": true,
   "provenance": [],
   "toc_visible": true
  },
  "kernelspec": {
   "display_name": "Python 3",
   "name": "python3"
  },
  "language_info": {
   "codemirror_mode": {
    "name": "ipython",
    "version": 3
   },
   "file_extension": ".py",
   "mimetype": "text/x-python",
   "name": "python",
   "nbconvert_exporter": "python",
   "pygments_lexer": "ipython3",
   "version": "3.11.5"
  }
 },
 "nbformat": 4,
 "nbformat_minor": 0
}
